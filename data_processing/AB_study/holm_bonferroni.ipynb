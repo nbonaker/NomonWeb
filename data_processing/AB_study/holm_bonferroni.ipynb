{
  "cells": [
    {
      "cell_type": "code",
      "execution_count": 1,
      "metadata": {
        "collapsed": true,
        "pycharm": {
          "is_executing": false
        }
      },
      "outputs": [
        {
          "data": {
            "text/plain": "{\u0027Final Entry Rate (wpm)\u0027: 0.0054562167894811435,\n \u0027Final Click Load (clicks/char)\u0027: 0.003251984444229162,\n \u0027Final Correction Rate (%)\u0027: 0.03324873014150134,\n \u0027Final Final Error Rate (%)\u0027: 0.4445867389117455,\n \u0027Emoji Entry Rate (cpm)\u0027: 0.0013340704337693645,\n \u0027Emoji Click Load (clicks/char)\u0027: 3.521649911172298e-05,\n \u0027Emoji Correction Rate (%)\u0027: 0.01700778808800664,\n \u0027Emoji Final Error Rate (%)\u0027: 0.4652088184521418}"
          },
          "metadata": {},
          "output_type": "execute_result",
          "execution_count": 1
        }
      ],
      "source": "import numpy as np\nfrom matplotlib import pyplot as plt\n\nimport _pickle as cPickle\n\npickle_path \u003d \u0027D:/Users/nickb/PycharmProjectsD/NomonWeb/data_processing/pvalues.pkl\u0027\n\nwith open(pickle_path, \u0027rb\u0027) as fp:\n    pvalue_dict \u003d cPickle.load(fp)\npvalue_dict"
    },
    {
      "cell_type": "code",
      "execution_count": 2,
      "outputs": [
        {
          "data": {
            "text/plain": "\u003cmatplotlib.lines.Line2D at 0x17f0b00a6d8\u003e"
          },
          "metadata": {},
          "output_type": "execute_result",
          "execution_count": 2
        },
        {
          "data": {
            "text/plain": "\u003cFigure size 432x288 with 1 Axes\u003e",
            "image/png": "[encoded data removed]"
          },
          "metadata": {
            "needs_background": "light"
          },
          "output_type": "display_data"
        }
      ],
      "source": "sorted_pvalues \u003d [[key, float(pvalue_dict[key])] for key in pvalue_dict.keys()]\nsorted_pvalues.sort(key\u003dlambda x: x[1])\n\nplt.bar(np.arange(len(sorted_pvalues)), np.array(np.array(sorted_pvalues).T[1], dtype\u003dfloat), log\u003dTrue)\nplt.axhline(0.05/(len(sorted_pvalues)+1), color\u003d\u0027r\u0027)",
      "metadata": {
        "pycharm": {
          "metadata": false,
          "name": "#%%\n",
          "is_executing": false
        }
      }
    },
    {
      "cell_type": "code",
      "execution_count": 3,
      "outputs": [
        {
          "name": "stdout",
          "text": [
            "Emoji Click Load (clicks/char)  TRUE 0.005555555555555556 3.521649911172298e-05\nEmoji Entry Rate (cpm)  TRUE 0.00625 0.0013340704337693645\nFinal Click Load (clicks/char)  TRUE 0.0071428571428571435 0.003251984444229162\nFinal Entry Rate (wpm)  TRUE 0.008333333333333333 0.0054562167894811435\nEmoji Correction Rate (%)  FALSE 0.01 0.01700778808800664\nFinal Correction Rate (%)  FALSE 0.0125 0.03324873014150134\nFinal Final Error Rate (%)  FALSE 0.016666666666666666 0.4445867389117455\nEmoji Final Error Rate (%)  FALSE 0.025 0.4652088184521418\n"
          ],
          "output_type": "stream"
        },
        {
          "data": {
            "text/plain": "[\u003cmatplotlib.lines.Line2D at 0x17f0d92fda0\u003e]"
          },
          "metadata": {},
          "output_type": "execute_result",
          "execution_count": 3
        },
        {
          "data": {
            "text/plain": "\u003cFigure size 432x288 with 1 Axes\u003e",
            "image/png": "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\u003d\u003d\n"
          },
          "metadata": {
            "needs_background": "light"
          },
          "output_type": "display_data"
        }
      ],
      "source": "n \u003d len(sorted_pvalues)+1\ntarget_alpha \u003d 0.05\n\nhb_values \u003d []\nfor rank in range(1, n):\n    rank_hb \u003d target_alpha / (n-rank+1)\n    if (sorted_pvalues[rank-1][1] \u003c rank_hb):\n        print(sorted_pvalues[rank-1][0], \" TRUE\", rank_hb, sorted_pvalues[rank-1][1])\n    else:\n        print(sorted_pvalues[rank-1][0], \" FALSE\", rank_hb, sorted_pvalues[rank-1][1])\n    hb_values.append(rank_hb)\n    \nplt.bar(np.arange(len(sorted_pvalues)), np.array(np.array(sorted_pvalues).T[1], dtype\u003dfloat), log\u003dTrue)\nplt.plot(np.arange(len(hb_values)), hb_values, color\u003d\u0027r\u0027)    \n",
      "metadata": {
        "pycharm": {
          "metadata": false,
          "name": "#%%\n",
          "is_executing": false
        }
      }
    }
  ],
  "metadata": {
    "language_info": {
      "codemirror_mode": {
        "name": "ipython",
        "version": 2
      },
      "file_extension": ".py",
      "mimetype": "text/x-python",
      "name": "python",
      "nbconvert_exporter": "python",
      "pygments_lexer": "ipython2",
      "version": "2.7.6"
    },
    "kernelspec": {
      "name": "python3",
      "language": "python",
      "display_name": "Python 3"
    }
  },
  "nbformat": 4,
  "nbformat_minor": 0
}