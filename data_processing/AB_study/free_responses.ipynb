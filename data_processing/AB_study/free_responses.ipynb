{
  "cells": [
    {
      "cell_type": "code",
      "execution_count": 2,
      "metadata": {
        "collapsed": true,
        "pycharm": {
          "is_executing": false
        }
      },
      "outputs": [
        {
          "data": {
            "text/plain": "array([\u0027I disliked that one wrong move makes the scanner lock onto a row or select a letter, where the other one required more precision on the temporal aspect. This means that any amount of background movement creates a huge frustration when typing.\u0027,\n       \u0027At the speed I8m at when there8s no options in the predictive row I don8t have time to select the first row of letters before the selection bar scrolls down.\u0027,\n       \u0027Word prediction was good. \u0027,\n       \u0027Once you get an idea of timings and such, it8s very easy to plan out how to type things and get faster at it.\u0027,\n       \u0027I found that it8s easier to just select a wrong choice at times and then undo or backspace to cut down the waiting times. Otherwise once you learn the count times between the letters it makes it easier to not have as many mistakes\u0027,\n       \u0027Nothing new to add from my previous observations, but this keyboard feels like more of a chore than Keyboard A.\u0027,\n       \u0027It feels really slow to type with this keyboard and this slowness can amount to frustration. It8s definitely easier on the physical and mental stress since there8s more time in between each head tilts.\u0027,\n       \u0027did not likethat the second line comes and goes so fast I always missed selecting it. Disliked trying to click ;8 for I8ll and it always registered as a b so I clicked I8m and tried to backspace the  m - took many tries\u0027,\n       \u0027This way of typing is a lot more straight-forward than the clocks, and there is a lot less to focus on. This makes it much easier (less cognitive load), but I think that it can be a little slow. As I use this interface more and more, I feel like I need to keep increasing the speed. \u0027,\n       \u0027I find it frustrating how long it takes wait for a row to scan through twice if accidentally hit. Even with the scan speed up it8s annoying. \u0027,\n       \u0027I like that you can change the speed after each sentence, it is not as tedious as the clock keyboard\u0027,\n       \u0027Very success oriented but slower to get to full words.\u0027,\n       \u0027I liked that you could adjust the speeds of the scanning. \u0027,\n       \u0027If you need one of the less common options it takes awhile to reach it (more waiting than the clocks)\u0027,\n       \u0027This session went much better.  The software seemed to be  more accurately reading my movements and selections.\u0027],\n      dtype\u003dobject)"
          },
          "metadata": {},
          "output_type": "execute_result",
          "execution_count": 2
        }
      ],
      "source": "import mysql.connector\nimport pandas as pd\nimport numpy as np  \nfrom matplotlib import pyplot as plt\nimport matplotlib.patheffects as path_effects\nfrom matplotlib.ticker import MaxNLocator\nimport seaborn as sns\nfrom scipy import stats\nfrom statsmodels.stats.multitest import multipletests\nimport os\nimport _pickle as cPickle\n\n\nmydb \u003d mysql.connector.connect(\n    host\u003d\"localhost\",\n    user\u003d\"root\",\n    password\u003d\"Mala2ki7!\",\n    database\u003d\"userDBnew\"\n)\n\nresponse_df \u003d pd.read_sql(\u0027SELECT * FROM survey_info\u0027, con\u003dmydb)\n\nusers\u003d[98, 133, 140, 161, 168, 175, 182, 189, 196, 203, 210, 224, 231, 238, 245, 252, 259]\nresponse_df \u003d response_df[response_df[\"id\"].isin(users)].drop_duplicates()\n\ncolumns \u003d list(response_df.columns)\n\nresponse_df \u003d response_df[columns[:4]+columns[-2:]]\n\nresponse_df[(response_df[\"software\"] \u003d\u003d \"B\") \u0026 (response_df[\"session\"] \u003d\u003d 9)][\"free_response_1\"].values"
    },
    {
      "cell_type": "code",
      "execution_count": 3,
      "outputs": [
        {
          "name": "stdout",
          "text": [
            "[\u0027id\u0027, \u0027software\u0027, \u0027software_order\u0027, \u0027session\u0027, \u0027preferred\u0027, \u0027free_response_1\u0027, \u0027free_response_2\u0027]\n"
          ],
          "output_type": "stream"
        },
        {
          "data": {
            "text/plain": "array([[1,\n        \u0027I liked that Keyboard A is more forgiving with errors, faster to type, and less downtime waiting for scanning.\u0027],\n       [1,\n        \u0027I feel like I have more agency and can type faster with keyboard a.\u0027],\n       [1, \u0027I think, over time, I would be much faster on A. \u0027],\n       [1,\n        \u0027I think it gives more flexibility as you can select any letter at any given time, without waiting for the right row to highlight. I also like how for each letter it gives a selection of words so it8s easier to find the right word.\u0027],\n       [1,\n        \u0027I think the clocks allow the user to correct their mistakes more quickly, which cuts down on a lot of waiting time. The grid you need to learn a bit more like the layout and how to count between rows and columns, but I think they are equally good choices. It just depends on the person perhaps\u0027],\n       [1,\n        \u0027Keyboard A is more forgiving due to the ability to select things quickly or choose not to select without the seeming penalty of Keyboard B8s long cycle time. It8s alphabetical layout is also more intuitive; alphabetical wouldn8t necessarily work for Keyboard B functionally, but the combination of that layout and cycling method make Keyboard A my preference overall.\u0027],\n       [1,\n        \u0027It feels like you can type a lot quicker and doesn8t seem to drag on as Keyboard B does.\u0027],\n       [1,\n        \u0027Location of things and timing is predictable. seems faster and easier to correct than B. Spend lots of time with B waiting not much idle time with A.\u0027],\n       [1,\n        \u0027The clocks felt more user friendly, by being both more user friendly and faster to navigate. \u0027],\n       [1,\n        \u0027I feel as if this method is more accurate and it is faster than the other. it doesn8t take as long for the clock to spin around so you can press the key that you would like. more efficient\u0027],\n       [2,\n        \u0027Initially, I strongly preferred Keyboard B since it was immediately easy to use. However, as I had more time to practice both interfaces, I became a lot more comfortable with both of them. I still think I slightly prefer Keyboard B because it is easier for me (a little less cognitive load), but that is only true when I am able to adjust the cursor speed upward and there are not a lot of out-of-vocabulary words in the phrases. For me, Keyboard B shines when the words in the phrase are easily predictable and the speed of the cursor is higher (~3), otherwise it can seem cumbersome and slow.\u0027],\n       [1,\n        \u0027Even though I prefer B, I can get to full words faster on A.  Also, as I got better I could speed the clocks up and go even faster.\u0027],\n       [1,\n        \u0027There are a lot of word predictions with the clocks, and I feel like it8s faster to type this this interface.\u0027],\n       [1,\n        \u0027I just like that any letter is potentially available at any time. I can complete it better. \u0027],\n       [2, \u0027Easy to correct.\u0027]], dtype\u003dobject)"
          },
          "metadata": {},
          "output_type": "execute_result",
          "execution_count": 3
        }
      ],
      "source": "final_df \u003d pd.read_sql(\u0027SELECT * FROM final_survey_info\u0027, con\u003dmydb)\nfinal_df \u003d final_df[final_df[\"id\"].isin(users) \u0026 (final_df[\"software_order\"] \u003d\u003d 2)].drop_duplicates()\ncolumns \u003d list(final_df.columns)\nprint(columns)\n\nfinal_df \u003d final_df[(final_df[\"session\"] \u003d\u003d 9)].drop_duplicates()\n\nfinal_df[[\"preferred\", \"free_response_1\"]].values\n",
      "metadata": {
        "pycharm": {
          "metadata": false,
          "name": "#%%\n",
          "is_executing": false
        }
      }
    }
  ],
  "metadata": {
    "language_info": {
      "codemirror_mode": {
        "name": "ipython",
        "version": 2
      },
      "file_extension": ".py",
      "mimetype": "text/x-python",
      "name": "python",
      "nbconvert_exporter": "python",
      "pygments_lexer": "ipython2",
      "version": "2.7.6"
    },
    "kernelspec": {
      "name": "python3",
      "language": "python",
      "display_name": "Python 3"
    }
  },
  "nbformat": 4,
  "nbformat_minor": 0
}